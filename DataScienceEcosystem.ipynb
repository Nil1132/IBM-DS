{
 "cells": [
  {
   "cell_type": "markdown",
   "id": "1c813fb8-0d0a-4dac-92c7-0113f3a2ae62",
   "metadata": {},
   "source": [
    "# Heading level 1 Data Science Tools and Ecosystem"
   ]
  },
  {
   "cell_type": "markdown",
   "id": "648396d2-8bfb-44e3-a72d-8fac39e2f357",
   "metadata": {},
   "source": [
    "In this notebook, Data Science Tools and Ecosystem are summarized."
   ]
  },
  {
   "cell_type": "markdown",
   "id": "90fc03e8-2687-4669-bf59-81d968d92aad",
   "metadata": {},
   "source": [
    "**Objectives:**\n",
    "- Python\n",
    "- SQL\n",
    "- R\n"
   ]
  },
  {
   "cell_type": "markdown",
   "id": "8817c9ad-5b7f-4705-ad18-97d0daa3a6ce",
   "metadata": {},
   "source": [
    "Some of the popular languages that Data Scientists use are:"
   ]
  },
  {
   "cell_type": "markdown",
   "id": "caa21f1a-751a-4b42-9512-d11e6448abc6",
   "metadata": {},
   "source": [
    "1. Python\n",
    "2. SQL\n",
    "3. R"
   ]
  },
  {
   "cell_type": "markdown",
   "id": "168bf913-e7d7-4629-830f-6654e94e3142",
   "metadata": {},
   "source": [
    "Some of the commonly used libraries used by Data Scientists include:"
   ]
  },
  {
   "cell_type": "markdown",
   "id": "99dac3e2-b69e-4b77-a0a7-4a665fd496a0",
   "metadata": {},
   "source": [
    "1. Pandas\n",
    "2. NumPy\n",
    "3. Scikit-learn"
   ]
  },
  {
   "cell_type": "markdown",
   "id": "94ffa414-8081-4669-8d9c-b98c67869c8c",
   "metadata": {},
   "source": [
    "| Data Science Tools| \n",
    "| :----: |\n",
    "| Jupyter | \n",
    "| Apache Zeppelin |\n",
    "| RStudio |"
   ]
  },
  {
   "cell_type": "markdown",
   "id": "5026693c-d921-429a-9ae8-fe4e5c07747b",
   "metadata": {},
   "source": [
    "### Below are a few examples of evaluating arithmetic expressions in Python"
   ]
  },
  {
   "cell_type": "code",
   "execution_count": 19,
   "id": "f38280bd-a59a-4262-ba7b-d646e1044978",
   "metadata": {},
   "outputs": [
    {
     "data": {
      "text/plain": [
       "17"
      ]
     },
     "execution_count": 19,
     "metadata": {},
     "output_type": "execute_result"
    }
   ],
   "source": [
    "# This a simple arithmetic expression to mutiply then add integers\n",
    "(3*4)+5"
   ]
  },
  {
   "cell_type": "code",
   "execution_count": 23,
   "id": "35b90878-b867-4847-920f-2bfe007b3efa",
   "metadata": {},
   "outputs": [
    {
     "name": "stdout",
     "output_type": "stream",
     "text": [
      "200 minutes = 3.33 hours\n"
     ]
    }
   ],
   "source": [
    "# This will convert 200 minutes to hours by diving by 60\n",
    "def minutes_to_hours(minutes):\n",
    "    return round(minutes / 60, 2)\n",
    "\n",
    "minutes = 200\n",
    "hours = minutes_to_hours(minutes)\n",
    "print(f\"{minutes} minutes = {hours} hours\")"
   ]
  },
  {
   "cell_type": "markdown",
   "id": "f21c857c-994a-4da8-811c-1b8984c8b309",
   "metadata": {},
   "source": [
    "## Author\n",
    "Ling Zong\n"
   ]
  },
  {
   "cell_type": "code",
   "execution_count": null,
   "id": "8327a720-e921-47ab-a787-939f0f801715",
   "metadata": {},
   "outputs": [],
   "source": []
  }
 ],
 "metadata": {
  "kernelspec": {
   "display_name": "Python 3 (ipykernel)",
   "language": "python",
   "name": "python3"
  },
  "language_info": {
   "codemirror_mode": {
    "name": "ipython",
    "version": 3
   },
   "file_extension": ".py",
   "mimetype": "text/x-python",
   "name": "python",
   "nbconvert_exporter": "python",
   "pygments_lexer": "ipython3",
   "version": "3.11.7"
  }
 },
 "nbformat": 4,
 "nbformat_minor": 5
}
